{
 "cells": [
  {
   "cell_type": "code",
   "execution_count": 1,
   "metadata": {},
   "outputs": [],
   "source": [
    "from scipy.optimize import curve_fit\n",
    "import numpy as np"
   ]
  },
  {
   "cell_type": "code",
   "execution_count": null,
   "metadata": {},
   "outputs": [],
   "source": [
    "# Taken from Chinchilla paper, but we didn't use it\n",
    "E = 1.69\n",
    "A = 406.4\n",
    "B = 410.7\n",
    "alpha = 0.336\n",
    "beta = 0.283\n",
    "\n",
    "G = (alpha * A / beta / B) ** (1 / (alpha + beta))\n",
    "\n"
   ]
  },
  {
   "cell_type": "code",
   "execution_count": 2,
   "metadata": {},
   "outputs": [],
   "source": [
    "def loss(model_size, data_size):\n",
    "    \"\"\"Returns the loss of a model with model_size parameters and data_size data points\"\"\"\n",
    "    return E + A / (model_size ** alpha) + B / (data_size ** beta)\n",
    "\n",
    "def get_data(l, model_size):\n",
    "    \"\"\"Returns the data size needed for a model of size model_size to achieve loss l\"\"\"\n",
    "    return (B / (l - E - A / model_size ** alpha)) ** (1 / beta)\n",
    "\n",
    "def inf_data_loss(model_size):\n",
    "    \"\"\"Returns the loss of a model with model_size parameters and infinite data points\"\"\"\n",
    "    return E + A / (model_size ** alpha)"
   ]
  },
  {
   "cell_type": "code",
   "execution_count": 4,
   "metadata": {},
   "outputs": [
    {
     "name": "stdout",
     "output_type": "stream",
     "text": [
      "2.1401\n",
      "0.8694\n",
      "2.3625\n",
      "1.7791\n",
      "2.047\n",
      "1.6637\n",
      "2.3139\n"
     ]
    },
    {
     "name": "stderr",
     "output_type": "stream",
     "text": [
      "/scratch/gpfs/mengzhou/anaconda3/envs/sl/lib/python3.10/site-packages/scipy/optimize/_minpack_py.py:1010: OptimizeWarning: Covariance of the parameters could not be estimated\n",
      "  warnings.warn('Covariance of the parameters could not be estimated',\n"
     ]
    }
   ],
   "source": [
    "\n",
    "# Define the function you want to fit\n",
    "def func(x, a, b, c):\n",
    "    return a / np.power(x, b) + c\n",
    "\n",
    "def get_data(y, a, b, c):\n",
    "    return (a / (y - c)) ** (1 / b)\n",
    "\n",
    "# model size\n",
    "x = np.asarray([6738415616, 13015864320, 68976648192])\n",
    "\n",
    "# losses\n",
    "cc_loss = np.array([1.7520, 1.6680, 1.4621])\n",
    "github_loss = np.array([0.6216, 0.5791, 0.4890])\n",
    "book_loss = np.array([1.9063, 1.8242, 1.6450])\n",
    "stackexchange_loss = np.array([1.4482, 1.3936, 1.2805])\n",
    "wiki_loss = np.array([1.4844, 1.3945, 1.2118])\n",
    "arxiv_loss = np.array([1.2637, 1.2109, 1.1148])\n",
    "c4_loss = np.array([1.9219, 1.8486, 1.6848])\n",
    "losses = {\"cc\": cc_loss, \"github\": github_loss, \"book\": book_loss, \"stackexchange\": stackexchange_loss, \"wiki\": wiki_loss, \"arxiv\": arxiv_loss, \"c4\": c4_loss}\n",
    "\n",
    "# Fit the function to the data\n",
    "target_model_size = 373867520\n",
    "for domain in [\"cc\", \"github\", \"book\", \"stackexchange\", \"wiki\", \"arxiv\", \"c4\"]:\n",
    "    params, params_covariance = curve_fit(func, x, losses[domain], maxfev=20000, p0 = np.asarray([406.4, 0.336, 0.69]))\n",
    "    a_fit, b_fit, c_fit = params\n",
    "    print(round(func(target_model_size, a_fit, b_fit, c_fit), 4))\n",
    "    \n"
   ]
  },
  {
   "cell_type": "code",
   "execution_count": null,
   "metadata": {},
   "outputs": [],
   "source": []
  }
 ],
 "metadata": {
  "kernelspec": {
   "display_name": "sl",
   "language": "python",
   "name": "python3"
  },
  "language_info": {
   "codemirror_mode": {
    "name": "ipython",
    "version": 3
   },
   "file_extension": ".py",
   "mimetype": "text/x-python",
   "name": "python",
   "nbconvert_exporter": "python",
   "pygments_lexer": "ipython3",
   "version": "3.10.13"
  }
 },
 "nbformat": 4,
 "nbformat_minor": 2
}
